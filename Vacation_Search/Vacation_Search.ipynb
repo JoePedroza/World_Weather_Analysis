{
 "cells": [
  {
   "cell_type": "markdown",
   "metadata": {},
   "source": [
    "## Deliverable 2. Create a Customer Travel Destinations Map."
   ]
  },
  {
   "cell_type": "code",
   "execution_count": 1,
   "metadata": {},
   "outputs": [],
   "source": [
    "# Dependencies and Setup\n",
    "import pandas as pd\n",
    "import requests\n",
    "import gmaps\n",
    "import csv\n",
    "\n",
    "# Import API key\n",
    "from config import g_key\n",
    "\n",
    "# Configure gmaps API key\n",
    "gmaps.configure(api_key=g_key)"
   ]
  },
  {
   "cell_type": "code",
   "execution_count": 2,
   "metadata": {},
   "outputs": [
    {
     "output_type": "execute_result",
     "data": {
      "text/plain": [
       "   City_ID             City      Lat       Lng  Max Temp  Humidity  \\\n",
       "0        0             Hilo  19.7297 -155.0900    299.15        47   \n",
       "1        1  Haines Junction  60.7522 -137.5108    247.15        70   \n",
       "2        2        Hay River  60.8156 -115.7999    238.15        61   \n",
       "3        3         Souillac -20.5167   57.5167    298.15        83   \n",
       "4        4         Coos Bay  43.3665 -124.2179    283.15        81   \n",
       "\n",
       "   Cloudiness  Wind Speed Country Current Description  \n",
       "0          40        4.12      US    scattered clouds  \n",
       "1          73        0.51      CA       broken clouds  \n",
       "2          10        2.06      CA           clear sky  \n",
       "3          40        2.06      MU    scattered clouds  \n",
       "4          90        2.06      US     overcast clouds  "
      ],
      "text/html": "<div>\n<style scoped>\n    .dataframe tbody tr th:only-of-type {\n        vertical-align: middle;\n    }\n\n    .dataframe tbody tr th {\n        vertical-align: top;\n    }\n\n    .dataframe thead th {\n        text-align: right;\n    }\n</style>\n<table border=\"1\" class=\"dataframe\">\n  <thead>\n    <tr style=\"text-align: right;\">\n      <th></th>\n      <th>City_ID</th>\n      <th>City</th>\n      <th>Lat</th>\n      <th>Lng</th>\n      <th>Max Temp</th>\n      <th>Humidity</th>\n      <th>Cloudiness</th>\n      <th>Wind Speed</th>\n      <th>Country</th>\n      <th>Current Description</th>\n    </tr>\n  </thead>\n  <tbody>\n    <tr>\n      <th>0</th>\n      <td>0</td>\n      <td>Hilo</td>\n      <td>19.7297</td>\n      <td>-155.0900</td>\n      <td>299.15</td>\n      <td>47</td>\n      <td>40</td>\n      <td>4.12</td>\n      <td>US</td>\n      <td>scattered clouds</td>\n    </tr>\n    <tr>\n      <th>1</th>\n      <td>1</td>\n      <td>Haines Junction</td>\n      <td>60.7522</td>\n      <td>-137.5108</td>\n      <td>247.15</td>\n      <td>70</td>\n      <td>73</td>\n      <td>0.51</td>\n      <td>CA</td>\n      <td>broken clouds</td>\n    </tr>\n    <tr>\n      <th>2</th>\n      <td>2</td>\n      <td>Hay River</td>\n      <td>60.8156</td>\n      <td>-115.7999</td>\n      <td>238.15</td>\n      <td>61</td>\n      <td>10</td>\n      <td>2.06</td>\n      <td>CA</td>\n      <td>clear sky</td>\n    </tr>\n    <tr>\n      <th>3</th>\n      <td>3</td>\n      <td>Souillac</td>\n      <td>-20.5167</td>\n      <td>57.5167</td>\n      <td>298.15</td>\n      <td>83</td>\n      <td>40</td>\n      <td>2.06</td>\n      <td>MU</td>\n      <td>scattered clouds</td>\n    </tr>\n    <tr>\n      <th>4</th>\n      <td>4</td>\n      <td>Coos Bay</td>\n      <td>43.3665</td>\n      <td>-124.2179</td>\n      <td>283.15</td>\n      <td>81</td>\n      <td>90</td>\n      <td>2.06</td>\n      <td>US</td>\n      <td>overcast clouds</td>\n    </tr>\n  </tbody>\n</table>\n</div>"
     },
     "metadata": {},
     "execution_count": 2
    }
   ],
   "source": [
    "# 1. Import the WeatherPy_database.csv file. \n",
    "city_data_df = pd.read_csv(\"../Weather_Database/WeatherPy_Database.csv\")\n",
    "city_data_df.head()"
   ]
  },
  {
   "cell_type": "code",
   "execution_count": 3,
   "metadata": {},
   "outputs": [],
   "source": [
    "# 2. Prompt the user to enter minimum and maximum temperature criteria \n",
    "min_temp = float(input(\"What is the minimum temperature you would like for your trip? \"))\n",
    "max_temp = float(input(\"What is the maximum temperature you would like for your trip? \"))"
   ]
  },
  {
   "cell_type": "code",
   "execution_count": 4,
   "metadata": {},
   "outputs": [
    {
     "output_type": "execute_result",
     "data": {
      "text/plain": [
       "    City_ID             City      Lat       Lng  Max Temp  Humidity  \\\n",
       "0         0             Hilo  19.7297 -155.0900    299.15        47   \n",
       "1         1  Haines Junction  60.7522 -137.5108    247.15        70   \n",
       "2         2        Hay River  60.8156 -115.7999    238.15        61   \n",
       "3         3         Souillac -20.5167   57.5167    298.15        83   \n",
       "4         4         Coos Bay  43.3665 -124.2179    283.15        81   \n",
       "5         5         Hermanus -34.4187   19.2345    292.59        91   \n",
       "6         6   Saint-Philippe -21.3585   55.7679    299.15        73   \n",
       "7         7            Masty  53.4122   24.5387    251.95        92   \n",
       "9         9        Inhambane -23.8650   35.3833    297.98        88   \n",
       "10       10           Aykhal  66.0000  111.5000    237.76        82   \n",
       "\n",
       "    Cloudiness  Wind Speed Country Current Description  \n",
       "0           40        4.12      US    scattered clouds  \n",
       "1           73        0.51      CA       broken clouds  \n",
       "2           10        2.06      CA           clear sky  \n",
       "3           40        2.06      MU    scattered clouds  \n",
       "4           90        2.06      US     overcast clouds  \n",
       "5          100        1.57      ZA          light rain  \n",
       "6           75        3.09      RE       broken clouds  \n",
       "7            0        0.90      BY           clear sky  \n",
       "9          100        3.05      MZ     overcast clouds  \n",
       "10           3        4.11      RU           clear sky  "
      ],
      "text/html": "<div>\n<style scoped>\n    .dataframe tbody tr th:only-of-type {\n        vertical-align: middle;\n    }\n\n    .dataframe tbody tr th {\n        vertical-align: top;\n    }\n\n    .dataframe thead th {\n        text-align: right;\n    }\n</style>\n<table border=\"1\" class=\"dataframe\">\n  <thead>\n    <tr style=\"text-align: right;\">\n      <th></th>\n      <th>City_ID</th>\n      <th>City</th>\n      <th>Lat</th>\n      <th>Lng</th>\n      <th>Max Temp</th>\n      <th>Humidity</th>\n      <th>Cloudiness</th>\n      <th>Wind Speed</th>\n      <th>Country</th>\n      <th>Current Description</th>\n    </tr>\n  </thead>\n  <tbody>\n    <tr>\n      <th>0</th>\n      <td>0</td>\n      <td>Hilo</td>\n      <td>19.7297</td>\n      <td>-155.0900</td>\n      <td>299.15</td>\n      <td>47</td>\n      <td>40</td>\n      <td>4.12</td>\n      <td>US</td>\n      <td>scattered clouds</td>\n    </tr>\n    <tr>\n      <th>1</th>\n      <td>1</td>\n      <td>Haines Junction</td>\n      <td>60.7522</td>\n      <td>-137.5108</td>\n      <td>247.15</td>\n      <td>70</td>\n      <td>73</td>\n      <td>0.51</td>\n      <td>CA</td>\n      <td>broken clouds</td>\n    </tr>\n    <tr>\n      <th>2</th>\n      <td>2</td>\n      <td>Hay River</td>\n      <td>60.8156</td>\n      <td>-115.7999</td>\n      <td>238.15</td>\n      <td>61</td>\n      <td>10</td>\n      <td>2.06</td>\n      <td>CA</td>\n      <td>clear sky</td>\n    </tr>\n    <tr>\n      <th>3</th>\n      <td>3</td>\n      <td>Souillac</td>\n      <td>-20.5167</td>\n      <td>57.5167</td>\n      <td>298.15</td>\n      <td>83</td>\n      <td>40</td>\n      <td>2.06</td>\n      <td>MU</td>\n      <td>scattered clouds</td>\n    </tr>\n    <tr>\n      <th>4</th>\n      <td>4</td>\n      <td>Coos Bay</td>\n      <td>43.3665</td>\n      <td>-124.2179</td>\n      <td>283.15</td>\n      <td>81</td>\n      <td>90</td>\n      <td>2.06</td>\n      <td>US</td>\n      <td>overcast clouds</td>\n    </tr>\n    <tr>\n      <th>5</th>\n      <td>5</td>\n      <td>Hermanus</td>\n      <td>-34.4187</td>\n      <td>19.2345</td>\n      <td>292.59</td>\n      <td>91</td>\n      <td>100</td>\n      <td>1.57</td>\n      <td>ZA</td>\n      <td>light rain</td>\n    </tr>\n    <tr>\n      <th>6</th>\n      <td>6</td>\n      <td>Saint-Philippe</td>\n      <td>-21.3585</td>\n      <td>55.7679</td>\n      <td>299.15</td>\n      <td>73</td>\n      <td>75</td>\n      <td>3.09</td>\n      <td>RE</td>\n      <td>broken clouds</td>\n    </tr>\n    <tr>\n      <th>7</th>\n      <td>7</td>\n      <td>Masty</td>\n      <td>53.4122</td>\n      <td>24.5387</td>\n      <td>251.95</td>\n      <td>92</td>\n      <td>0</td>\n      <td>0.90</td>\n      <td>BY</td>\n      <td>clear sky</td>\n    </tr>\n    <tr>\n      <th>9</th>\n      <td>9</td>\n      <td>Inhambane</td>\n      <td>-23.8650</td>\n      <td>35.3833</td>\n      <td>297.98</td>\n      <td>88</td>\n      <td>100</td>\n      <td>3.05</td>\n      <td>MZ</td>\n      <td>overcast clouds</td>\n    </tr>\n    <tr>\n      <th>10</th>\n      <td>10</td>\n      <td>Aykhal</td>\n      <td>66.0000</td>\n      <td>111.5000</td>\n      <td>237.76</td>\n      <td>82</td>\n      <td>3</td>\n      <td>4.11</td>\n      <td>RU</td>\n      <td>clear sky</td>\n    </tr>\n  </tbody>\n</table>\n</div>"
     },
     "metadata": {},
     "execution_count": 4
    }
   ],
   "source": [
    "# 3. Filter the city_data_df DataFrame using the input statements to create a new DataFrame using the loc method.\n",
    "preferred_cities_df = city_data_df.loc[(city_data_df[\"Max Temp\"] <= max_temp) & (city_data_df[\"Max Temp\"] >= min_temp)]\n",
    "preferred_cities_df.head(10)"
   ]
  },
  {
   "cell_type": "code",
   "execution_count": 5,
   "metadata": {},
   "outputs": [
    {
     "output_type": "execute_result",
     "data": {
      "text/plain": [
       "City_ID                631\n",
       "City                   631\n",
       "Lat                    631\n",
       "Lng                    631\n",
       "Max Temp               631\n",
       "Humidity               631\n",
       "Cloudiness             631\n",
       "Wind Speed             631\n",
       "Country                628\n",
       "Current Description    631\n",
       "dtype: int64"
      ]
     },
     "metadata": {},
     "execution_count": 5
    }
   ],
   "source": [
    "# 4a. Determine if there are any empty rows.\n",
    "\n",
    "preferred_cities_df.count()"
   ]
  },
  {
   "cell_type": "code",
   "execution_count": 6,
   "metadata": {},
   "outputs": [],
   "source": [
    "# 4b. Drop any empty rows and create a new DataFrame that doesn’t have empty rows.\n",
    "clean_df= preferred_cities_df.dropna()"
   ]
  },
  {
   "cell_type": "code",
   "execution_count": 7,
   "metadata": {},
   "outputs": [
    {
     "output_type": "execute_result",
     "data": {
      "text/plain": [
       "               City Country  Max Temp Current Description      Lat       Lng  \\\n",
       "0              Hilo      US    299.15    scattered clouds  19.7297 -155.0900   \n",
       "1   Haines Junction      CA    247.15       broken clouds  60.7522 -137.5108   \n",
       "2         Hay River      CA    238.15           clear sky  60.8156 -115.7999   \n",
       "3          Souillac      MU    298.15    scattered clouds -20.5167   57.5167   \n",
       "4          Coos Bay      US    283.15     overcast clouds  43.3665 -124.2179   \n",
       "5          Hermanus      ZA    292.59          light rain -34.4187   19.2345   \n",
       "6    Saint-Philippe      RE    299.15       broken clouds -21.3585   55.7679   \n",
       "7             Masty      BY    251.95           clear sky  53.4122   24.5387   \n",
       "9         Inhambane      MZ    297.98     overcast clouds -23.8650   35.3833   \n",
       "10           Aykhal      RU    237.76           clear sky  66.0000  111.5000   \n",
       "\n",
       "   Hotel Name  \n",
       "0              \n",
       "1              \n",
       "2              \n",
       "3              \n",
       "4              \n",
       "5              \n",
       "6              \n",
       "7              \n",
       "9              \n",
       "10             "
      ],
      "text/html": "<div>\n<style scoped>\n    .dataframe tbody tr th:only-of-type {\n        vertical-align: middle;\n    }\n\n    .dataframe tbody tr th {\n        vertical-align: top;\n    }\n\n    .dataframe thead th {\n        text-align: right;\n    }\n</style>\n<table border=\"1\" class=\"dataframe\">\n  <thead>\n    <tr style=\"text-align: right;\">\n      <th></th>\n      <th>City</th>\n      <th>Country</th>\n      <th>Max Temp</th>\n      <th>Current Description</th>\n      <th>Lat</th>\n      <th>Lng</th>\n      <th>Hotel Name</th>\n    </tr>\n  </thead>\n  <tbody>\n    <tr>\n      <th>0</th>\n      <td>Hilo</td>\n      <td>US</td>\n      <td>299.15</td>\n      <td>scattered clouds</td>\n      <td>19.7297</td>\n      <td>-155.0900</td>\n      <td></td>\n    </tr>\n    <tr>\n      <th>1</th>\n      <td>Haines Junction</td>\n      <td>CA</td>\n      <td>247.15</td>\n      <td>broken clouds</td>\n      <td>60.7522</td>\n      <td>-137.5108</td>\n      <td></td>\n    </tr>\n    <tr>\n      <th>2</th>\n      <td>Hay River</td>\n      <td>CA</td>\n      <td>238.15</td>\n      <td>clear sky</td>\n      <td>60.8156</td>\n      <td>-115.7999</td>\n      <td></td>\n    </tr>\n    <tr>\n      <th>3</th>\n      <td>Souillac</td>\n      <td>MU</td>\n      <td>298.15</td>\n      <td>scattered clouds</td>\n      <td>-20.5167</td>\n      <td>57.5167</td>\n      <td></td>\n    </tr>\n    <tr>\n      <th>4</th>\n      <td>Coos Bay</td>\n      <td>US</td>\n      <td>283.15</td>\n      <td>overcast clouds</td>\n      <td>43.3665</td>\n      <td>-124.2179</td>\n      <td></td>\n    </tr>\n    <tr>\n      <th>5</th>\n      <td>Hermanus</td>\n      <td>ZA</td>\n      <td>292.59</td>\n      <td>light rain</td>\n      <td>-34.4187</td>\n      <td>19.2345</td>\n      <td></td>\n    </tr>\n    <tr>\n      <th>6</th>\n      <td>Saint-Philippe</td>\n      <td>RE</td>\n      <td>299.15</td>\n      <td>broken clouds</td>\n      <td>-21.3585</td>\n      <td>55.7679</td>\n      <td></td>\n    </tr>\n    <tr>\n      <th>7</th>\n      <td>Masty</td>\n      <td>BY</td>\n      <td>251.95</td>\n      <td>clear sky</td>\n      <td>53.4122</td>\n      <td>24.5387</td>\n      <td></td>\n    </tr>\n    <tr>\n      <th>9</th>\n      <td>Inhambane</td>\n      <td>MZ</td>\n      <td>297.98</td>\n      <td>overcast clouds</td>\n      <td>-23.8650</td>\n      <td>35.3833</td>\n      <td></td>\n    </tr>\n    <tr>\n      <th>10</th>\n      <td>Aykhal</td>\n      <td>RU</td>\n      <td>237.76</td>\n      <td>clear sky</td>\n      <td>66.0000</td>\n      <td>111.5000</td>\n      <td></td>\n    </tr>\n  </tbody>\n</table>\n</div>"
     },
     "metadata": {},
     "execution_count": 7
    }
   ],
   "source": [
    "# 5a. Create DataFrame called hotel_df to store hotel names along with city, country, max temp, and coordinates.\n",
    "hotel_df = clean_df[[\"City\", \"Country\", \"Max Temp\", \"Current Description\", \"Lat\", \"Lng\"]].copy()\n",
    "\n",
    "# 5b. Create a new column \"Hotel Name\"\n",
    "hotel_df[\"Hotel Name\"] = \"\"\n",
    "hotel_df.head(10)"
   ]
  },
  {
   "cell_type": "code",
   "execution_count": 8,
   "metadata": {},
   "outputs": [],
   "source": [
    "# 6a. Set parameters to search for hotels with 5000 meters.\n",
    "params = {\n",
    "    \"radius\": 5000,\n",
    "    \"type\": \"lodging\",\n",
    "    \"key\": g_key\n",
    "}\n",
    "\n",
    "# 6b. Iterate through the hotel DataFrame.\n",
    "for index, row in hotel_df.iterrows():\n",
    "    # 6c. Get latitude and longitude from DataFrame\n",
    "    lat = row[\"Lat\"]\n",
    "    lng = row[\"Lng\"]\n",
    "    params[\"location\"] = f\"{lat},{lng}\"\n",
    "    \n",
    "    # 6d. Set up the base URL for the Google Directions API to get JSON data.\n",
    "    base_url = \"https://maps.googleapis.com/maps/api/place/nearbysearch/json\"\n",
    "\n",
    "    # 6e. Make request and retrieve the JSON data from the search. \n",
    "    hotels = requests.get(base_url, params=params).json()\n",
    "    \n",
    "    # 6f. Get the first hotel from the results and store the name, if a hotel isn't found skip the city.\n",
    "    try:\n",
    "        hotel_df.loc[index, \"Hotel Name\"] = hotels[\"results\"][0][\"name\"]\n",
    "    except (IndexError):\n",
    "        print(\"Hotel not found... skipping.\")\n",
    "        "
   ]
  },
  {
   "cell_type": "code",
   "execution_count": 9,
   "metadata": {},
   "outputs": [],
   "source": [
    "# 7. Drop the rows where there is no Hotel Name.\n",
    "hotel_df.dropna()\n"
   ]
  },
  {
   "cell_type": "code",
   "execution_count": 10,
   "metadata": {},
   "outputs": [],
   "source": [
    "# 8a. Create the output File (CSV)\n",
    "output_data_file = \"WeatherPy_vacation.csv\"\n",
    "# 8b. Export the City_Data into a csv\n",
    "clean_hotel_df.to_csv(output_data_file, index_label=\"City_ID\")"
   ]
  },
  {
   "cell_type": "code",
   "execution_count": 11,
   "metadata": {},
   "outputs": [],
   "source": [
    "# 9. Using the template add city name, the country code, the weather description and maximum temperature for the city.\n",
    "nfo_box_template = \"\"\"\n",
    "<dl>\n",
    "<dt>Hotel Name</dt><dd>{Hotel Name}</dd>\n",
    "<dt>City</dt><dd>{City}</dd>\n",
    "<dt>Country</dt><dd>{Country}</dd>\n",
    "<dt>Max Temp</dt><dd>{Max Temp} °F</dd>\n",
    "</dl>\n",
    "\"\"\"\n",
    "\n",
    "# 10a. Get the data from each row and add it to the formatting template and store the data in a list.\n",
    "hotel_info = [info_box_template.format(**row) for index, row in clean_hotel_df.iterrows()]\n",
    "\n",
    "# 10b. Get the latitude and longitude from each row and store in a new DataFrame.\n",
    "locations = clean_hotel_df[[\"Lat\", \"Lng\"]]"
   ]
  },
  {
   "cell_type": "code",
   "execution_count": 12,
   "metadata": {},
   "outputs": [],
   "source": [
    "# 11a. Add a marker layer for each city to the map. \n",
    "fig = gmaps.figure(center=(30.0, 31.0), zoom_level=1.5)\n",
    "marker_layer = gmaps.marker_layer(locations, info_box_content=hotel_info)\n",
    "fig.add_layer(marker_layer)\n",
    "\n",
    "# 11b. Display the figure\n",
    "fig\n"
   ]
  }
 ],
 "metadata": {
  "kernelspec": {
   "name": "python3",
   "display_name": "Python 3.8.5 64-bit ('PythonData': conda)",
   "metadata": {
    "interpreter": {
     "hash": "e81a24e94d4a01ad7b2815bda7eb2b59ca99226d5a1c173102c01bc81b6e5d20"
    }
   }
  },
  "language_info": {
   "codemirror_mode": {
    "name": "ipython",
    "version": 3
   },
   "file_extension": ".py",
   "mimetype": "text/x-python",
   "name": "python",
   "nbconvert_exporter": "python",
   "pygments_lexer": "ipython3",
   "version": "3.8.5-final"
  },
  "latex_envs": {
   "LaTeX_envs_menu_present": true,
   "autoclose": false,
   "autocomplete": true,
   "bibliofile": "biblio.bib",
   "cite_by": "apalike",
   "current_citInitial": 1,
   "eqLabelWithNumbers": true,
   "eqNumInitial": 1,
   "hotkeys": {
    "equation": "Ctrl-E",
    "itemize": "Ctrl-I"
   },
   "labels_anchors": false,
   "latex_user_defs": false,
   "report_style_numbering": false,
   "user_envs_cfg": false
  }
 },
 "nbformat": 4,
 "nbformat_minor": 2
}